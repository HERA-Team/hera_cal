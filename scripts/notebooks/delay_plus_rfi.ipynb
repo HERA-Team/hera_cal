{
 "cells": [
  {
   "cell_type": "markdown",
   "metadata": {
    "run_control": {
     "frozen": false,
     "read_only": false
    }
   },
   "source": [
    "# Running delay filter, followed by xrfi"
   ]
  },
  {
   "cell_type": "code",
   "execution_count": 1,
   "metadata": {
    "ExecuteTime": {
     "end_time": "2018-03-21T23:54:35.036985Z",
     "start_time": "2018-03-21T23:54:33.186436Z"
    },
    "collapsed": true,
    "run_control": {
     "frozen": false,
     "read_only": false
    }
   },
   "outputs": [],
   "source": [
    "%matplotlib inline\n",
    "import numpy as np\n",
    "import matplotlib.pyplot as plt\n",
    "import matplotlib.colors as colors\n",
    "import os\n",
    "from hera_cal.delay_filter import DelayFilter\n",
    "from hera_cal.data import DATA_PATH\n",
    "from pyuvdata import UVData\n",
    "import shutil\n",
    "from hera_qm import xrfi\n",
    "from hera_qm import utils as qm_utils\n",
    "from hera_cal import io\n",
    "import copy"
   ]
  },
  {
   "cell_type": "markdown",
   "metadata": {
    "run_control": {
     "frozen": false,
     "read_only": false
    }
   },
   "source": [
    "## Read Data\n",
    "\n",
    "Load data by creating a `DelayFilter` object and then reading in some data."
   ]
  },
  {
   "cell_type": "code",
   "execution_count": 2,
   "metadata": {
    "ExecuteTime": {
     "end_time": "2018-03-21T23:54:36.618525Z",
     "start_time": "2018-03-21T23:54:35.039156Z"
    },
    "collapsed": true,
    "run_control": {
     "frozen": false,
     "read_only": false
    }
   },
   "outputs": [],
   "source": [
    "dfil = DelayFilter()\n",
    "fname = os.path.join(DATA_PATH, \"zen.2458043.12552.xx.HH.uvORA\")\n",
    "uv = UVData()\n",
    "uv.read_miriad(fname)\n",
    "dfil.load_data(uv)\n",
    "uv_raw = copy.deepcopy(uv)  # For comparing later"
   ]
  },
  {
   "cell_type": "markdown",
   "metadata": {
    "run_control": {
     "frozen": false,
     "read_only": false
    }
   },
   "source": [
    "## Perform Delay Filter"
   ]
  },
  {
   "cell_type": "code",
   "execution_count": 3,
   "metadata": {
    "ExecuteTime": {
     "end_time": "2018-03-21T23:54:39.605927Z",
     "start_time": "2018-03-21T23:54:36.619935Z"
    },
    "collapsed": true,
    "run_control": {
     "frozen": false,
     "read_only": false
    }
   },
   "outputs": [],
   "source": [
    "dfil.run_filter()"
   ]
  },
  {
   "cell_type": "markdown",
   "metadata": {
    "run_control": {
     "frozen": false,
     "read_only": false
    }
   },
   "source": [
    "## Update UVData object"
   ]
  },
  {
   "cell_type": "code",
   "execution_count": 4,
   "metadata": {
    "ExecuteTime": {
     "end_time": "2018-03-21T23:54:39.613281Z",
     "start_time": "2018-03-21T23:54:39.607534Z"
    },
    "collapsed": true,
    "run_control": {
     "frozen": false,
     "read_only": false
    }
   },
   "outputs": [],
   "source": [
    "io.update_uvdata(dfil.input_data, data=dfil.filtered_residuals)"
   ]
  },
  {
   "cell_type": "markdown",
   "metadata": {
    "run_control": {
     "frozen": false,
     "read_only": false
    }
   },
   "source": [
    "## Run xrfi"
   ]
  },
  {
   "cell_type": "code",
   "execution_count": 5,
   "metadata": {
    "ExecuteTime": {
     "end_time": "2018-03-21T23:54:40.202283Z",
     "start_time": "2018-03-21T23:54:39.614741Z"
    },
    "run_control": {
     "frozen": false,
     "read_only": false
    }
   },
   "outputs": [
    {
     "name": "stderr",
     "output_type": "stream",
     "text": [
      "invalid value encountered in true_divide\n",
      "invalid value encountered in greater\n"
     ]
    }
   ],
   "source": [
    "# Construct arg parser\n",
    "a = qm_utils.get_metrics_ArgumentParser('xrfi_run')\n",
    "# Here are some example arguments. There are others too - check hera_qm.utils\n",
    "arg0 = \"--infile_format=miriad\"\n",
    "arg1 = \"--xrfi_path={}\".format(os.path.join(DATA_PATH, 'test_output'))\n",
    "arg2 = \"--algorithm=xrfi\"\n",
    "arg3 = \"--kt_size=2\"\n",
    "arg4 = \"--kf_size=2\"\n",
    "arg5 = \"--sig_init=6\"\n",
    "arg6 = \"--sig_adj=2\"\n",
    "arg7 = \"--summary\"\n",
    "arg8 = \"--model_file={}\".format(os.path.join(DATA_PATH, 'zen.2458043.12552.xx.HH.uvA.vis.uvfits'))\n",
    "arg9 = \"--calfits_file={}\".format(os.path.join(DATA_PATH, 'zen.2458043.12552.xx.HH.uvORA.abs.calfits'))\n",
    "arguments = ' '.join([arg0, arg1, arg2, arg3, arg4, arg5, arg6, arg7, arg8, arg9])\n",
    "cmd = ' '.join([arguments, fname])\n",
    "args = a.parse_args(cmd.split())\n",
    "\n",
    "xrfi.xrfi_run(dfil.input_data, args, cmd)"
   ]
  },
  {
   "cell_type": "markdown",
   "metadata": {
    "run_control": {
     "frozen": false,
     "read_only": false
    }
   },
   "source": [
    "## Apply to data"
   ]
  },
  {
   "cell_type": "code",
   "execution_count": 6,
   "metadata": {
    "ExecuteTime": {
     "end_time": "2018-03-21T23:54:40.764270Z",
     "start_time": "2018-03-21T23:54:40.203772Z"
    },
    "run_control": {
     "frozen": false,
     "read_only": false
    }
   },
   "outputs": [],
   "source": [
    "# Construct new arg parser\n",
    "a = qm_utils.get_metrics_ArgumentParser('xrfi_apply')\n",
    "arg0 = \"--infile_format=miriad\"\n",
    "arg1 = \"--outfile_format=miriad\"\n",
    "arg2 = \"--extension=R\"\n",
    "arg3 = \"--xrfi_path={}\".format(os.path.join(DATA_PATH, 'test_output'))\n",
    "flag_file = os.path.join(DATA_PATH, 'test_output', 'zen.2458043.12552.xx.HH.uvORA.flags.npz')\n",
    "arg4 = \"--flag_file=\" + flag_file\n",
    "wf_file1 = os.path.join(DATA_PATH, 'test_output', 'zen.2458043.12552.xx.HH.uvORA.abs.calfits.g.flags.npz')\n",
    "wf_file2 = os.path.join(DATA_PATH, 'test_output', 'zen.2458043.12552.xx.HH.uvORA.abs.calfits.x.flags.npz')\n",
    "# Note the x-flags from this file result in all flags, but this is how you'd do it.\n",
    "arg5 = \"--waterfalls=\" + wf_file1 # + \",\" + wf_file2\n",
    "arg6 = \"--overwrite\"  # Overwrite test files\n",
    "arguments = ' '.join([arg0, arg1, arg2, arg3, arg4, arg5, arg6])\n",
    "cmd = ' '.join([arguments, fname])\n",
    "args = a.parse_args(cmd.split())\n",
    "\n",
    "xrfi.xrfi_apply(args.filename, args, cmd)"
   ]
  },
  {
   "cell_type": "code",
   "execution_count": 7,
   "metadata": {
    "ExecuteTime": {
     "end_time": "2018-03-21T23:54:41.250065Z",
     "start_time": "2018-03-21T23:54:40.765913Z"
    },
    "collapsed": true,
    "run_control": {
     "frozen": false,
     "read_only": false
    }
   },
   "outputs": [],
   "source": [
    "uvR = UVData()\n",
    "uvR.read_miriad(os.path.join(DATA_PATH, 'test_output', os.path.basename(fname) + args.extension))"
   ]
  },
  {
   "cell_type": "code",
   "execution_count": 8,
   "metadata": {
    "ExecuteTime": {
     "end_time": "2018-03-21T23:54:43.054645Z",
     "start_time": "2018-03-21T23:54:41.251437Z"
    },
    "run_control": {
     "frozen": false,
     "read_only": false
    }
   },
   "outputs": [
    {
     "data": {
      "text/plain": [
       "Text(0,0.5,u'Integration')"
      ]
     },
     "execution_count": 8,
     "metadata": {},
     "output_type": "execute_result"
    },
    {
     "data": {
      "image/png": "[encoded data removed]",
      "text/plain": [
       "<matplotlib.figure.Figure at 0x11ef21510>"
      ]
     },
     "metadata": {},
     "output_type": "display_data"
    }
   ],
   "source": [
    "bl = (37, 39, 'xx')\n",
    "plt.figure(figsize=(15,5))\n",
    "plt.subplot(131)\n",
    "d = uv_raw.get_data(bl)\n",
    "f = uv_raw.get_flags(bl)\n",
    "d = np.ma.masked_where(f, d)\n",
    "plt.imshow(np.abs(d), aspect='auto', norm=colors.LogNorm(vmin=1e-4))\n",
    "plt.colorbar()\n",
    "plt.title(str(bl) + ': Abs(Data)')\n",
    "plt.xlabel('Frequency Channel')\n",
    "plt.ylabel('Integration')\n",
    "\n",
    "plt.subplot(132)\n",
    "res = dfil.filtered_residuals[bl]\n",
    "res[dfil.flags[bl]] = 0\n",
    "plt.imshow(np.abs(res), aspect='auto', norm=colors.LogNorm(vmin=1e-4))\n",
    "plt.colorbar()\n",
    "plt.title(str(bl) + ': Abs(Filtered Data)')\n",
    "plt.xlabel('Frequency Channel')\n",
    "plt.ylabel('Integration')\n",
    "\n",
    "plt.subplot(133)\n",
    "d = uvR.get_data(bl)\n",
    "f = uvR.get_flags(bl)\n",
    "d = np.ma.masked_where(f, d)\n",
    "plt.imshow(np.abs(d), aspect='auto', norm=colors.LogNorm(vmin=1e-4))\n",
    "plt.colorbar()\n",
    "plt.title(str(bl) + ': Abs(RFId Data)')\n",
    "plt.xlabel('Frequency Channel')\n",
    "plt.ylabel('Integration')"
   ]
  },
  {
   "cell_type": "code",
   "execution_count": null,
   "metadata": {
    "collapsed": true,
    "run_control": {
     "frozen": false,
     "read_only": false
    }
   },
   "outputs": [],
   "source": []
  }
 ],
 "metadata": {
  "kernelspec": {
   "display_name": "Python 2",
   "language": "python",
   "name": "python2"
  },
  "language_info": {
   "codemirror_mode": {
    "name": "ipython",
    "version": 2
   },
   "file_extension": ".py",
   "mimetype": "text/x-python",
   "name": "python",
   "nbconvert_exporter": "python",
   "pygments_lexer": "ipython2",
   "version": "2.7.13"
  }
 },
 "nbformat": 4,
 "nbformat_minor": 2
}
