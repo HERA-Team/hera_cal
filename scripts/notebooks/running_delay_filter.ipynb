{
 "cells": [
  {
   "cell_type": "markdown",
   "metadata": {
    "run_control": {
     "frozen": false,
     "read_only": false
    }
   },
   "source": [
    "# How to use the `delay_filter` module in `hera_cal`\n",
    "\n",
    "`hera_cal`'s `delay_filter` module is an interface to the delay_filtering in `uvtools.dspec`. It allows for simple reading of data, performing the delay filter (based on baseline length), and then writing the results to disk."
   ]
  },
  {
   "cell_type": "code",
   "execution_count": 1,
   "metadata": {
    "ExecuteTime": {
     "end_time": "2018-08-28T16:50:48.658726Z",
     "start_time": "2018-08-28T16:50:46.066985Z"
    },
    "run_control": {
     "frozen": false,
     "read_only": false
    }
   },
   "outputs": [],
   "source": [
    "%matplotlib inline\n",
    "import numpy as np\n",
    "import matplotlib.pyplot as plt\n",
    "import matplotlib.colors as colors\n",
    "import os\n",
    "from hera_cal.delay_filter import DelayFilter\n",
    "from hera_cal.data import DATA_PATH\n",
    "from hera_cal import io\n",
    "import shutil"
   ]
  },
  {
   "cell_type": "markdown",
   "metadata": {
    "run_control": {
     "frozen": false,
     "read_only": false
    }
   },
   "source": [
    "## Reading Data\n",
    "\n",
    "Let's start by loading by creating a `DelayFilter` object and then loading in some data."
   ]
  },
  {
   "cell_type": "code",
   "execution_count": 2,
   "metadata": {
    "ExecuteTime": {
     "end_time": "2018-08-28T16:50:50.740027Z",
     "start_time": "2018-08-28T16:50:48.664945Z"
    },
    "run_control": {
     "frozen": false,
     "read_only": false
    }
   },
   "outputs": [],
   "source": [
    "dfil = DelayFilter()\n",
    "fname = os.path.join(DATA_PATH, \"zen.2458043.12552.xx.HH.uvORA\")\n",
    "dfil.load_data(fname, filetype='miriad')"
   ]
  },
  {
   "cell_type": "markdown",
   "metadata": {
    "run_control": {
     "frozen": false,
     "read_only": false
    }
   },
   "source": [
    "Alternatively, we could load in data from a HERAData object."
   ]
  },
  {
   "cell_type": "code",
   "execution_count": 3,
   "metadata": {
    "ExecuteTime": {
     "end_time": "2018-08-28T16:50:51.416979Z",
     "start_time": "2018-08-28T16:50:50.745045Z"
    },
    "run_control": {
     "frozen": false,
     "read_only": false
    }
   },
   "outputs": [],
   "source": [
    "dfil = DelayFilter()\n",
    "hd = io.HERAData(fname, filetype='miriad')\n",
    "hd.read()\n",
    "dfil.load_data(hd)"
   ]
  },
  {
   "cell_type": "markdown",
   "metadata": {
    "run_control": {
     "frozen": false,
     "read_only": false
    }
   },
   "source": [
    "`load_data` also supports lists of either of those kinds of input. `DelayFilter` objects also suport `load_data_as_dicts`, which allows one to directly input the data, flags, freqs and antpos. If either of these are used, writing to disk (see below) is not available."
   ]
  },
  {
   "cell_type": "markdown",
   "metadata": {
    "run_control": {
     "frozen": false,
     "read_only": false
    }
   },
   "source": [
    "Let's pick the 28 m EW baseline between antennas 37 and 39 and look a the data and flags."
   ]
  },
  {
   "cell_type": "code",
   "execution_count": 4,
   "metadata": {
    "ExecuteTime": {
     "end_time": "2018-08-28T16:50:51.426416Z",
     "start_time": "2018-08-28T16:50:51.421773Z"
    },
    "run_control": {
     "frozen": false,
     "read_only": false
    }
   },
   "outputs": [],
   "source": [
    "bl = (37, 39, 'xx')"
   ]
  },
  {
   "cell_type": "code",
   "execution_count": 5,
   "metadata": {
    "ExecuteTime": {
     "end_time": "2018-08-28T16:50:53.635718Z",
     "start_time": "2018-08-28T16:50:51.431021Z"
    },
    "run_control": {
     "frozen": false,
     "read_only": false
    }
   },
   "outputs": [
    {
     "data": {
      "image/png": "[encoded data removed]",
      "text/plain": [
       "<Figure size 720x360 with 4 Axes>"
      ]
     },
     "metadata": {},
     "output_type": "display_data"
    }
   ],
   "source": [
    "plt.figure(figsize=(10,5))\n",
    "plt.subplot(121)\n",
    "plt.imshow(np.abs(dfil.data[bl]), aspect='auto', norm=colors.LogNorm(vmin=1e-4))\n",
    "plt.colorbar()\n",
    "plt.title(str(bl) + ': Abs(Data)')\n",
    "plt.xlabel('Frequency Channel')\n",
    "plt.ylabel('Integration')\n",
    "\n",
    "plt.subplot(122)\n",
    "plt.imshow(np.array(dfil.flags[bl], dtype=float), aspect='auto', cmap='inferno')\n",
    "plt.colorbar()\n",
    "plt.title(str(bl) + ': Flags')\n",
    "plt.xlabel('Frequency Channel')\n",
    "plt.ylabel('Integration');"
   ]
  },
  {
   "cell_type": "markdown",
   "metadata": {
    "run_control": {
     "frozen": false,
     "read_only": false
    }
   },
   "source": [
    "## Performing the Delay Filter\n",
    "\n",
    "Now let's run the filter. We can run the filter on all baselines simply with:"
   ]
  },
  {
   "cell_type": "code",
   "execution_count": 6,
   "metadata": {
    "ExecuteTime": {
     "end_time": "2018-08-28T16:50:56.844029Z",
     "start_time": "2018-08-28T16:50:53.640559Z"
    },
    "run_control": {
     "frozen": false,
     "read_only": false
    }
   },
   "outputs": [],
   "source": [
    "dfil.run_filter()"
   ]
  },
  {
   "cell_type": "markdown",
   "metadata": {
    "run_control": {
     "frozen": false,
     "read_only": false
    }
   },
   "source": [
    "We can also filter just a specific baseline or baselines as a list:"
   ]
  },
  {
   "cell_type": "code",
   "execution_count": 7,
   "metadata": {
    "ExecuteTime": {
     "end_time": "2018-08-28T16:50:56.975617Z",
     "start_time": "2018-08-28T16:50:56.848584Z"
    },
    "run_control": {
     "frozen": false,
     "read_only": false
    }
   },
   "outputs": [],
   "source": [
    "dfil.run_filter(to_filter=[bl])"
   ]
  },
  {
   "cell_type": "markdown",
   "metadata": {
    "run_control": {
     "frozen": false,
     "read_only": false
    }
   },
   "source": [
    "We can also use `run_filter` to access all the keyword arguments of `uvtools.dspec.delay_filter`. The weights default (i.e. `None`) to using the inverse of the flags of the data, but custom linear multiplicative weights can be provided."
   ]
  },
  {
   "cell_type": "code",
   "execution_count": 8,
   "metadata": {
    "ExecuteTime": {
     "end_time": "2018-08-28T16:50:57.100193Z",
     "start_time": "2018-08-28T16:50:56.981047Z"
    },
    "run_control": {
     "frozen": false,
     "read_only": false
    }
   },
   "outputs": [],
   "source": [
    "dfil.run_filter(to_filter=[bl], weight_dict = None, standoff=15., horizon=1.,\n",
    "                tol=1e-9, window='blackman-harris', skip_wgt=0.1, maxiter=100)"
   ]
  },
  {
   "cell_type": "markdown",
   "metadata": {
    "run_control": {
     "frozen": false,
     "read_only": false
    }
   },
   "source": [
    "The results are stored in the `DelayFilter` object. `filtered_residuals` is a `DataContainer` that maps baseline/pol keys to the results of the high-pass filter. `CLEAN_models` is also a `DataContainer` that contains the smooth spectrum components found iteratively by `uvtools.dspec.delay_filter` (which itself uses `aipy.deconv.clean`).\n",
    "\n",
    "Now let's plot some reuslts. Running delay filter removes a lot of the large-spectral scale power in the data. Clearly, there's some power left in, in part due to the band edges and in part due to unflagged RFI. "
   ]
  },
  {
   "cell_type": "code",
   "execution_count": 9,
   "metadata": {
    "ExecuteTime": {
     "end_time": "2018-08-28T16:50:57.768379Z",
     "start_time": "2018-08-28T16:50:57.105776Z"
    },
    "run_control": {
     "frozen": false,
     "read_only": false
    }
   },
   "outputs": [
    {
     "data": {
      "image/png": "[encoded data removed]",
      "text/plain": [
       "<Figure size 720x360 with 4 Axes>"
      ]
     },
     "metadata": {},
     "output_type": "display_data"
    }
   ],
   "source": [
    "plt.figure(figsize=(10,5))\n",
    "plt.subplot(121)\n",
    "res = dfil.filtered_residuals[bl]\n",
    "res[dfil.flags[bl]] = 0\n",
    "plt.imshow(np.abs(res), aspect='auto', norm=colors.LogNorm(vmin=1e-4))\n",
    "plt.colorbar()\n",
    "plt.title(str(bl) + ': Abs(Filtered Residuals)')\n",
    "plt.xlabel('Frequency Channel')\n",
    "plt.ylabel('Integration')\n",
    "\n",
    "plt.subplot(122)\n",
    "plt.imshow(np.abs(dfil.CLEAN_models[bl]), aspect='auto', norm=colors.LogNorm(vmin=1e-4))\n",
    "plt.colorbar()\n",
    "plt.title(str(bl) + ': CLEAN Models')\n",
    "plt.xlabel('Frequency Channel')\n",
    "plt.ylabel('Integration');"
   ]
  },
  {
   "cell_type": "markdown",
   "metadata": {
    "run_control": {
     "frozen": false,
     "read_only": false
    }
   },
   "source": [
    "The `DelayFilter` also stores the `info` returned from each frequency that the delay CLEANing was performed on. This includes some information about whether or not it ran successfully."
   ]
  },
  {
   "cell_type": "code",
   "execution_count": 10,
   "metadata": {
    "ExecuteTime": {
     "end_time": "2018-08-28T16:50:57.780033Z",
     "start_time": "2018-08-28T16:50:57.773388Z"
    },
    "run_control": {
     "frozen": false,
     "read_only": false
    }
   },
   "outputs": [
    {
     "name": "stdout",
     "output_type": "stream",
     "text": [
      "{'term': 'tol', 'score': 0.001979366046126994, 'success': True, 'tol': 1e-09, 'iter': 1}\n"
     ]
    }
   ],
   "source": [
    "print dfil.info[bl][0]"
   ]
  },
  {
   "cell_type": "markdown",
   "metadata": {
    "collapsed": true,
    "run_control": {
     "frozen": false,
     "read_only": false
    }
   },
   "source": [
    "## Writing the Results to Disk\n",
    "\n",
    "When data is loaded via a single string path or a single `UVData` object, `DelayFilter` objects enable easy writing to disk of the results. This uses `hera_cal.io.update_vis` to update the input visibility data file or object, only modifying the visibility data."
   ]
  },
  {
   "cell_type": "code",
   "execution_count": 11,
   "metadata": {
    "ExecuteTime": {
     "end_time": "2018-08-28T16:50:58.253931Z",
     "start_time": "2018-08-28T16:50:57.785442Z"
    },
    "run_control": {
     "frozen": false,
     "read_only": false
    }
   },
   "outputs": [],
   "source": [
    "outfile = os.path.join(DATA_PATH, \"test_output/sample_delay_filter_output.uv\")\n",
    "dfil.write_filtered_data(res_outfilename=outfile, filetype='miriad', clobber=True)"
   ]
  },
  {
   "cell_type": "markdown",
   "metadata": {
    "run_control": {
     "frozen": false,
     "read_only": false
    }
   },
   "source": [
    "`write_filtered_data` supports a number of options that interface with `update_vis` to update other desired parameters. One can choose the filetype of the output, whether to allow the output to overwrite (\"clobber\") a file in the same location, whether to write out the CLEAN_models (i.e. the low-pass component), and what to append to the history. One can also pass updates to UVData parameters via `**kwargs`."
   ]
  },
  {
   "cell_type": "code",
   "execution_count": 12,
   "metadata": {
    "ExecuteTime": {
     "end_time": "2018-08-28T16:50:58.758696Z",
     "start_time": "2018-08-28T16:50:58.258337Z"
    },
    "run_control": {
     "frozen": false,
     "read_only": false
    }
   },
   "outputs": [
    {
     "name": "stdout",
     "output_type": "stream",
     "text": [
      "File exists: clobbering\n"
     ]
    }
   ],
   "source": [
    "dfil.write_filtered_data(CLEAN_outfilename=outfile, filetype='miriad', clobber=True,\n",
    "                         add_to_history = 'Written with running_delay_filter.ipynb.')"
   ]
  },
  {
   "cell_type": "code",
   "execution_count": 13,
   "metadata": {
    "ExecuteTime": {
     "end_time": "2018-08-28T16:50:58.770408Z",
     "start_time": "2018-08-28T16:50:58.763302Z"
    },
    "run_control": {
     "frozen": false,
     "read_only": false
    }
   },
   "outputs": [],
   "source": [
    "shutil.rmtree(outfile)"
   ]
  },
  {
   "cell_type": "markdown",
   "metadata": {
    "run_control": {
     "frozen": false,
     "read_only": false
    }
   },
   "source": [
    "## Partial I/O\n",
    "\n",
    "Both reading via `load_data` (using `**read_kwargs`) and writing via `write_filtered_data` support partial data I/O (though the latter only via uvh5 and then only if the data itself was loaded with uvh5).\n",
    "\n",
    "Doing so in a way that loops over and delay filters a whole file can be done using `hera_cal.delay_filter.partial_load_delay_filter_and_write`, loading, delay_filtering, and writing `Nbls` at a time. This can be done from the commandline using the delay_filter_run.py script by specifying an interger number for `partial_load_Nbls`."
   ]
  }
 ],
 "metadata": {
  "kernelspec": {
   "display_name": "Python 2",
   "language": "python",
   "name": "python2"
  },
  "language_info": {
   "codemirror_mode": {
    "name": "ipython",
    "version": 2
   },
   "file_extension": ".py",
   "mimetype": "text/x-python",
   "name": "python",
   "nbconvert_exporter": "python",
   "pygments_lexer": "ipython2",
   "version": "2.7.15"
  }
 },
 "nbformat": 4,
 "nbformat_minor": 2
}
